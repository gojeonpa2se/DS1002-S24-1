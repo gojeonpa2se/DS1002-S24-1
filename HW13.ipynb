{
  "nbformat": 4,
  "nbformat_minor": 0,
  "metadata": {
    "colab": {
      "provenance": [],
      "authorship_tag": "ABX9TyOCfZ2sD3mewyyTZlD6Q47e",
      "include_colab_link": true
    },
    "kernelspec": {
      "name": "python3",
      "display_name": "Python 3"
    },
    "language_info": {
      "name": "python"
    }
  },
  "cells": [
    {
      "cell_type": "markdown",
      "metadata": {
        "id": "view-in-github",
        "colab_type": "text"
      },
      "source": [
        "<a href=\"https://colab.research.google.com/github/gojeonpa2se/DS1002-S24-1/blob/main/HW13.ipynb\" target=\"_parent\"><img src=\"https://colab.research.google.com/assets/colab-badge.svg\" alt=\"Open In Colab\"/></a>"
      ]
    },
    {
      "cell_type": "code",
      "execution_count": 83,
      "metadata": {
        "colab": {
          "base_uri": "https://localhost:8080/"
        },
        "id": "90fjjd62UZZQ",
        "outputId": "b49488cb-1f84-407d-b958-b6171e17f5cb"
      },
      "outputs": [
        {
          "output_type": "stream",
          "name": "stdout",
          "text": [
            "<class '__main__.Person'>\n",
            "John Smith\n",
            "Person('John', 'Smith', 'unknown', 'unknown')\n",
            "Taylor Swift\n",
            "True\n",
            "unknown\n",
            "False\n",
            "True\n",
            "Hannah\n",
            "Hermione\n"
          ]
        }
      ],
      "source": [
        "class Person:\n",
        "    def __init__(self, firstName, lastName, mother='unknown', father='unknown'):\n",
        "        self.firstName = firstName\n",
        "        self.lastName = lastName\n",
        "        self.mother = mother\n",
        "        self.father = father\n",
        "\n",
        "    def __str__(self):\n",
        "        return f\"{self.firstName} {self.lastName}\"\n",
        "\n",
        "    def __repr__(self):\n",
        "        return f\"Person('{self.firstName}', '{self.lastName}', '{self.mother}', '{self.father}')\"\n",
        "\n",
        "    def unknownParent(self):\n",
        "        return self.mother == 'unknown' or self.father == 'unknown'\n",
        "\n",
        "    def maternalGrandmother(self):\n",
        "        if self.mother == 'unknown':\n",
        "            return 'unknown'\n",
        "        elif isinstance(self.mother, Person) and self.mother.mother != 'unknown':\n",
        "            return self.mother.mother\n",
        "        else:\n",
        "            return 'unknown'\n",
        "\n",
        "\n",
        "# Create a person (Person object) called p with unknown parents\n",
        "p = Person(\"John\", \"Smith\")\n",
        "print(type(p))  # Output: <class '__main__.Person'>\n",
        "\n",
        "# Verify that your __str__ and __repr__ functions are doing what they are supposed to do\n",
        "print(str(p))   # Output: John Smith\n",
        "print(repr(p))  # Output: Person('John', 'Smith', 'unknown', 'unknown')\n",
        "\n",
        "# Set the mother of p named Taylor Swift\n",
        "p1 = Person(\"Taylor\", \"Swift\")\n",
        "p.mother=p1\n",
        "print(p.mother)  # Output: Taylor Swift\n",
        "\n",
        "# Test unknownParent() and maternalGrandmother() methods\n",
        "print(p.unknownParent())            # Output: True\n",
        "\n",
        "# Test maternalGrandmother() method\n",
        "print(p.maternalGrandmother())  # Output: unknown, since the mother's mother is unknown\n",
        "\n",
        "# Create more Person objects to thoroughly test the methods\n",
        "p2 = Person(\"Michael\", \"Johnson\", \"Vladimir\", \"Gandhi\")\n",
        "p3 = Person(\"Olivia\", \"Brown\", \"Emily\")\n",
        "p4 = Person(\"Emily\", \"Blunt\", \"Hannah\", \"Miller\")\n",
        "p5 = Person(\"Justin\", \"Sigmon\")\n",
        "p6 = Person(\"Elizabeth\", \"Queen\", \"Hermione\", \"Ron\")\n",
        "\n",
        "p3.mother = p4\n",
        "p5.mother = p6\n",
        "\n",
        "print(p2.unknownParent())\n",
        "print(p3.unknownParent())\n",
        "print(p3.maternalGrandmother())\n",
        "print(p5.maternalGrandmother())"
      ]
    }
  ]
}