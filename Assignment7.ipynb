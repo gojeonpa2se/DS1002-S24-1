{
  "nbformat": 4,
  "nbformat_minor": 0,
  "metadata": {
    "colab": {
      "provenance": [],
      "authorship_tag": "ABX9TyM0ZBHWm5v41wWY+A0xXiY5",
      "include_colab_link": true
    },
    "kernelspec": {
      "name": "python3",
      "display_name": "Python 3"
    },
    "language_info": {
      "name": "python"
    }
  },
  "cells": [
    {
      "cell_type": "markdown",
      "metadata": {
        "id": "view-in-github",
        "colab_type": "text"
      },
      "source": [
        "<a href=\"https://colab.research.google.com/github/gojeonpa2se/DS1002-S24-1/blob/main/Assignment7.ipynb\" target=\"_parent\"><img src=\"https://colab.research.google.com/assets/colab-badge.svg\" alt=\"Open In Colab\"/></a>"
      ]
    },
    {
      "cell_type": "code",
      "execution_count": 7,
      "metadata": {
        "id": "DGw-Gd6n0jRd"
      },
      "outputs": [],
      "source": [
        "# Load pandas and the data\n",
        "import pandas as pd\n",
        "ride_sharing = pd.read_csv('https://ds1002-resources.s3.amazonaws.com/data/ride_sharing.csv')"
      ]
    },
    {
      "cell_type": "code",
      "source": [
        "# show how many rows and columns are in this dataset\n",
        "print(\"Number of rows and columns:\", ride_sharing.shape)"
      ],
      "metadata": {
        "colab": {
          "base_uri": "https://localhost:8080/"
        },
        "id": "aYzsRgGsJTEM",
        "outputId": "800766d2-d948-4f2a-e075-973e5de78434"
      },
      "execution_count": 8,
      "outputs": [
        {
          "output_type": "stream",
          "name": "stdout",
          "text": [
            "Number of rows and columns: (25760, 10)\n"
          ]
        }
      ]
    },
    {
      "cell_type": "code",
      "source": [
        "# The first column, \"duration\" is seen as a string.\n",
        "# Using two snippets of code, clean this column up so that\n",
        "# is now an integer (int64)\n",
        "ride_sharing['duration'] = pd.to_numeric(ride_sharing['duration'], errors='coerce')"
      ],
      "metadata": {
        "id": "6SP743ETJf44"
      },
      "execution_count": 21,
      "outputs": []
    },
    {
      "cell_type": "code",
      "source": [
        "# Now display the datatypes in the updated dataframe\n",
        "print(\"Datatypes in the updated dataframe:\")\n",
        "print(ride_sharing.dtypes)"
      ],
      "metadata": {
        "colab": {
          "base_uri": "https://localhost:8080/"
        },
        "id": "GK3cT_BdJiTH",
        "outputId": "b3cd8507-9810-415a-bba7-d503d7ef2345"
      },
      "execution_count": 22,
      "outputs": [
        {
          "output_type": "stream",
          "name": "stdout",
          "text": [
            "Datatypes in the updated dataframe:\n",
            "duration            int64\n",
            "station_A_id        int64\n",
            "station_A_name     object\n",
            "station_B_id        int64\n",
            "station_B_name     object\n",
            "bike_id             int64\n",
            "user_type           int64\n",
            "user_birth_year     int64\n",
            "user_gender        object\n",
            "tire_size           int64\n",
            "dtype: object\n"
          ]
        }
      ]
    },
    {
      "cell_type": "code",
      "source": [
        "# Show the min and max values of ride durations (the shortest and longest rides)\n",
        "# Hint: If 'df' is the name of your dataframe, simply specify the column name\n",
        "# and then append the .min() or .max() methods.\n",
        "print(\"Min duration:\", ride_sharing['duration'].min())\n",
        "print(\"Max duration:\", ride_sharing['duration'].max())"
      ],
      "metadata": {
        "colab": {
          "base_uri": "https://localhost:8080/"
        },
        "id": "ahjvG0bXJkXj",
        "outputId": "6f621566-adc4-4e4b-f6cb-4183ef694bf2"
      },
      "execution_count": 23,
      "outputs": [
        {
          "output_type": "stream",
          "name": "stdout",
          "text": [
            "Min duration: 1\n",
            "Max duration: 1372\n"
          ]
        }
      ]
    },
    {
      "cell_type": "code",
      "source": [
        "# Create a new dataframe object and populate it with rides that are 60 minutes or less.\n",
        "# Hint: Use the .query() method for the dataframe that we used in class.\n",
        "short_rides = ride_sharing.query('duration <= 60')"
      ],
      "metadata": {
        "id": "UJiutC0DJm6j"
      },
      "execution_count": 26,
      "outputs": []
    },
    {
      "cell_type": "code",
      "source": [
        "# Now show both the min and max values of the duration column for your new dataset.\n",
        "print(\"Min duration for short rides:\", short_rides['duration'].min())\n",
        "print(\"Max duration for short rides:\", short_rides['duration'].max())"
      ],
      "metadata": {
        "colab": {
          "base_uri": "https://localhost:8080/"
        },
        "id": "GO8VgOMbJqKF",
        "outputId": "1b63644b-283c-49b1-ee6b-93d762f73b1d"
      },
      "execution_count": 27,
      "outputs": [
        {
          "output_type": "stream",
          "name": "stdout",
          "text": [
            "Min duration for short rides: 1\n",
            "Max duration for short rides: 60\n"
          ]
        }
      ]
    },
    {
      "cell_type": "code",
      "source": [
        "# Using the new dataframe, update it so that is ONLY has records where\n",
        "# the tire_size is 26.\n",
        "ride_sharing_26 = ride_sharing[ride_sharing['tire_size'] == 26]"
      ],
      "metadata": {
        "id": "QoOGm1tRJsZX"
      },
      "execution_count": 32,
      "outputs": []
    },
    {
      "cell_type": "code",
      "source": [
        "# Finally, produce a count of all records with FEMALE riders\n",
        "# using the 26-inch wheeled rental bikes for their rentals of\n",
        "# one hour or less.\n",
        "female_short_rides = ride_sharing_26.query('duration <= 60 and user_gender == \"Female\"')\n",
        "print(\"Count of Female riders with 26-inch tire size for rides of one hour or less:\", len(female_short_rides))"
      ],
      "metadata": {
        "colab": {
          "base_uri": "https://localhost:8080/"
        },
        "id": "4xp7NUpFJwuG",
        "outputId": "d2af3d86-c995-4008-f53a-d0ea31096da0"
      },
      "execution_count": 34,
      "outputs": [
        {
          "output_type": "stream",
          "name": "stdout",
          "text": [
            "Count of Female riders with 26-inch tire size for rides of one hour or less: 2962\n"
          ]
        }
      ]
    },
    {
      "cell_type": "code",
      "source": [
        "# Write a snippet of code that will display the number of duplicate rows exist in the DF.\n",
        "import pandas as pd\n",
        "messy = pd.read_csv('./more-messy-data.csv')\n",
        "\n",
        "duplicate_rows = messy.duplicated().sum()\n",
        "print(\"Number of duplicate rows:\", duplicate_rows)"
      ],
      "metadata": {
        "colab": {
          "base_uri": "https://localhost:8080/"
        },
        "id": "2OEbW-uxRiSz",
        "outputId": "6a4b344b-14c7-4a80-bec4-b3309e4bcf9e"
      },
      "execution_count": 36,
      "outputs": [
        {
          "output_type": "stream",
          "name": "stdout",
          "text": [
            "Number of duplicate rows: 287\n"
          ]
        }
      ]
    },
    {
      "cell_type": "code",
      "source": [
        "# Next, remove all duplicate rows using Python.\n",
        "messy = messy.drop_duplicates()"
      ],
      "metadata": {
        "id": "njV_pb1kRlBD"
      },
      "execution_count": 40,
      "outputs": []
    },
    {
      "cell_type": "code",
      "source": [
        "# For the FOUR columns involving sepal and petal length and width, update all NaN\n",
        "# values with the column mean.\n",
        "columns_to_update = ['sepal_length', 'sepal_width', 'petal_length', 'petal_width']\n",
        "messy[columns_to_update] = messy[columns_to_update].fillna(messy[columns_to_update].mean(numeric_only=True))"
      ],
      "metadata": {
        "id": "Ltbt6Kx5RmZm"
      },
      "execution_count": 44,
      "outputs": []
    },
    {
      "cell_type": "code",
      "source": [
        "# Find any values in the dataframe that are still missing, and delete them.df.dropna(inplace=True)\n",
        "messy.dropna(inplace=True)"
      ],
      "metadata": {
        "id": "5ujowjSiRosV"
      },
      "execution_count": null,
      "outputs": []
    },
    {
      "cell_type": "code",
      "source": [
        "# How many different species are there?\n",
        "num_species = messy['species'].nunique()\n",
        "print(\"Number of different species:\", num_species)"
      ],
      "metadata": {
        "colab": {
          "base_uri": "https://localhost:8080/"
        },
        "id": "rttUzcKtRrdB",
        "outputId": "2dbb64e1-3547-49b0-ca8d-5406c1b4b01c"
      },
      "execution_count": 45,
      "outputs": [
        {
          "output_type": "stream",
          "name": "stdout",
          "text": [
            "Number of different species: 10\n"
          ]
        }
      ]
    },
    {
      "cell_type": "code",
      "source": [
        "# Clean up the 'species' variable so that there are exactly three different values.\n",
        "# Identify the three most frequent species\n",
        "top_species = messy['species'].value_counts().index[:3]\n",
        "messy['species'] = messy['species'].apply(lambda x: x if x in top_species else 'Other')\n",
        "# Verify the result\n",
        "print(messy.head())\n"
      ],
      "metadata": {
        "colab": {
          "base_uri": "https://localhost:8080/"
        },
        "id": "m-L1KnqgRtRD",
        "outputId": "82c99b6d-4af6-46a7-bb88-9328714298c5"
      },
      "execution_count": 52,
      "outputs": [
        {
          "output_type": "stream",
          "name": "stdout",
          "text": [
            "   id  sepal_length  sepal_width  petal_length petal_width    species\n",
            "0   1           3.5      2.90000           1.4         0.5  virginica\n",
            "1   2           3.6      3.20000           3.0         0.5     setosa\n",
            "2   3           3.8      2.98876           2.2         1.5     setosa\n",
            "3   4           5.8      2.70000           2.6         1.2  virginica\n",
            "4   5           4.9      3.60000           3.0         1.2  virginica\n"
          ]
        }
      ]
    }
  ]
}