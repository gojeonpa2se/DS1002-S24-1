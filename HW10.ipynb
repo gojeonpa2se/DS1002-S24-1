{
  "nbformat": 4,
  "nbformat_minor": 0,
  "metadata": {
    "colab": {
      "provenance": [],
      "authorship_tag": "ABX9TyPk5jgxMoUgXw9bEvxTkP86",
      "include_colab_link": true
    },
    "kernelspec": {
      "name": "python3",
      "display_name": "Python 3"
    },
    "language_info": {
      "name": "python"
    }
  },
  "cells": [
    {
      "cell_type": "markdown",
      "metadata": {
        "id": "view-in-github",
        "colab_type": "text"
      },
      "source": [
        "<a href=\"https://colab.research.google.com/github/gojeonpa2se/DS1002-S24-1/blob/main/HW10.ipynb\" target=\"_parent\"><img src=\"https://colab.research.google.com/assets/colab-badge.svg\" alt=\"Open In Colab\"/></a>"
      ]
    },
    {
      "cell_type": "code",
      "execution_count": 4,
      "metadata": {
        "colab": {
          "base_uri": "https://localhost:8080/"
        },
        "id": "jP5WYnZnmEnc",
        "outputId": "d369d072-92cb-4f1a-b5c4-428a9261f070"
      },
      "outputs": [
        {
          "output_type": "stream",
          "name": "stdout",
          "text": [
            "2\n",
            "3\n",
            "1\n",
            "BBBBCCCXX\n",
            "BBCXX\n",
            "Enter your guess:1234\n",
            "CCCX\n",
            "Enter your guess:2325\n",
            "Invalid guess. Please enter 4 unique digits between 1 and 6.\n",
            "Enter your guess:2315\n",
            "BCXX\n",
            "Enter your guess:2436\n",
            "BBCX\n",
            "Enter your guess:2416\n",
            "BBCC\n",
            "Enter your guess:2461\n",
            "You guessed it!\n"
          ]
        }
      ],
      "source": [
        "from random import sample\n",
        "\n",
        "def count_bulls(first, second):\n",
        "    '''\n",
        "    Takes two lists of the same length and computes the number of positions where the list entries agree (Bulls).\n",
        "    '''\n",
        "    num_bulls = sum(1 for x, y in zip(first, second) if x == y)\n",
        "    return num_bulls\n",
        "\n",
        "# Test count_bulls function\n",
        "first = [11, 3, 17, 5, 1]\n",
        "second = [20, 2, 17, 3, 1]\n",
        "print(count_bulls(first, second))\n",
        "# Output should be 2\n",
        "\n",
        "def count_animals(first, second):\n",
        "    '''\n",
        "    Takes two lists of the same length and returns the number of elements of the second list that are also in the first list.\n",
        "    '''\n",
        "    return sum(1 for x in second if x in first)\n",
        "\n",
        "# Test count_animals function\n",
        "first = [11, 3, 17, 5, 1]\n",
        "second = [20, 2, 17, 3, 1]\n",
        "print(count_animals(first, second))\n",
        "# Output should be 3\n",
        "\n",
        "def count_cows(first, second):\n",
        "    '''\n",
        "    Counts the number of cows (digits exist somewhere in the secret code, but not in the same position as in the guess).\n",
        "    '''\n",
        "    num_bulls = count_bulls(first, second)\n",
        "    num_animals = count_animals(first, second)\n",
        "    num_cows = num_animals - num_bulls\n",
        "    return num_cows\n",
        "\n",
        "# Test count_cows function\n",
        "first = [11, 3, 17, 5, 1]\n",
        "second = [20, 2, 17, 3, 1]\n",
        "print(count_cows(first, second))\n",
        "# Output should be 1\n",
        "\n",
        "def build_response_str(b, c, l):\n",
        "    '''\n",
        "    Builds a response string consisting of b B's, c C's, and the rest X's until the total length is l.\n",
        "    '''\n",
        "    response = 'B' * b + 'C' * c + 'X' * (l - b - c)\n",
        "    return response\n",
        "\n",
        "# Test build_response_str function\n",
        "print(build_response_str(4, 3, 9))\n",
        "# Output should be 'BBBBCCCXX'\n",
        "\n",
        "def response(first, second):\n",
        "    '''\n",
        "    Generates a response string consisting of B's, C's, and X's based on the comparison of two lists.\n",
        "    '''\n",
        "    b = count_bulls(first, second)\n",
        "    c = count_cows(first, second)\n",
        "    l = len(first)\n",
        "    return build_response_str(b, c, l)\n",
        "\n",
        "# Test response function\n",
        "first = [11, 3, 17, 5, 1]\n",
        "second = [20, 2, 17, 3, 1]\n",
        "print(response(first, second))\n",
        "# Output should be 'BBCXX'\n",
        "\n",
        "def get_guess():\n",
        "    '''\n",
        "    Prompts the user for a guess and verifies its legitimacy.\n",
        "    '''\n",
        "    while True:\n",
        "        guess = input(\"Enter your guess:\")\n",
        "        guess_list = [int(x) for x in guess if x.isdigit()]  # Convert input to list of integers\n",
        "        if len(guess_list) == 4 and len(set(guess_list)) == 4 and all(1 <= x <= 6 for x in guess_list):\n",
        "            return guess_list\n",
        "        else:\n",
        "            print(\"Invalid guess. Please enter 4 unique digits between 1 and 6.\")\n",
        "\n",
        "def bulls_cows():\n",
        "    '''\n",
        "    Plays the game \"Bulls and Cows.\"\n",
        "    '''\n",
        "    code = sample(range(1, 7), 4)  # Computer selects the secret code\n",
        "\n",
        "    for i in range(6):  # User gets a maximum of 6 guesses\n",
        "        guess = get_guess()  # Get user's guess\n",
        "        if code == guess:\n",
        "            print(\"You guessed it!\")\n",
        "            return\n",
        "        print(response(code, guess))\n",
        "    print(f\"You have run out of guesses. The secret code was {code}.\")\n",
        "\n",
        "# Play the game\n",
        "bulls_cows()"
      ]
    },
    {
      "cell_type": "code",
      "source": [
        "bulls_cows()"
      ],
      "metadata": {
        "colab": {
          "base_uri": "https://localhost:8080/"
        },
        "id": "wCAWC00fp2Rs",
        "outputId": "738d1c20-a0c7-4639-c405-6696b807def6"
      },
      "execution_count": 5,
      "outputs": [
        {
          "output_type": "stream",
          "name": "stdout",
          "text": [
            "Enter your guess:1345\n",
            "BCCX\n",
            "Enter your guess:1346\n",
            "BCXX\n",
            "Enter your guess:1452\n",
            "BCCX\n",
            "Enter your guess:3452\n",
            "CCCX\n",
            "Enter your guess:1456\n",
            "BCXX\n",
            "Enter your guess:1236\n",
            "BCCX\n",
            "You have run out of guesses. The secret code was [1, 5, 2, 3].\n"
          ]
        }
      ]
    },
    {
      "cell_type": "code",
      "source": [
        "bulls_cows()"
      ],
      "metadata": {
        "colab": {
          "base_uri": "https://localhost:8080/"
        },
        "id": "BNDxjzt7p3oT",
        "outputId": "eaa79745-8b79-4ede-cc51-7b2ead503019"
      },
      "execution_count": 8,
      "outputs": [
        {
          "output_type": "stream",
          "name": "stdout",
          "text": [
            "Enter your guess:1234\n",
            "You guessed it!\n"
          ]
        }
      ]
    },
    {
      "cell_type": "markdown",
      "source": [
        "Reflect\n",
        "\n",
        "1)Change the length of the secret code:\n",
        "\n",
        "To change the length, we have to adjust the code in 'bulls_cow' function and update 'get_guess' function.\n",
        "\n",
        "2) Increase the maximum number of guesses allowed:\n",
        "\n",
        "Adjust range in the 'bulls_cows' function.\n",
        "\n",
        "3)Allow repeated digits in the secret code:\n",
        "\n",
        "Adjust 'bulls_cows' function to allow duplicates. Also update 'count_bulls' and\n",
        "'count_cows'."
      ],
      "metadata": {
        "id": "YTjniVlGrueV"
      }
    },
    {
      "cell_type": "code",
      "source": [],
      "metadata": {
        "id": "R78d1eS7siEE"
      },
      "execution_count": null,
      "outputs": []
    }
  ]
}