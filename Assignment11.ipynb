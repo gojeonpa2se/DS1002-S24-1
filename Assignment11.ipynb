{
  "nbformat": 4,
  "nbformat_minor": 0,
  "metadata": {
    "colab": {
      "provenance": [],
      "authorship_tag": "ABX9TyOS75FOPQNTRNJMd+1RFk0b",
      "include_colab_link": true
    },
    "kernelspec": {
      "name": "python3",
      "display_name": "Python 3"
    },
    "language_info": {
      "name": "python"
    }
  },
  "cells": [
    {
      "cell_type": "markdown",
      "metadata": {
        "id": "view-in-github",
        "colab_type": "text"
      },
      "source": [
        "<a href=\"https://colab.research.google.com/github/gojeonpa2se/DS1002-S24-1/blob/main/Assignment11.ipynb\" target=\"_parent\"><img src=\"https://colab.research.google.com/assets/colab-badge.svg\" alt=\"Open In Colab\"/></a>"
      ]
    },
    {
      "cell_type": "code",
      "execution_count": 13,
      "metadata": {
        "id": "Iw7M5xIV2-YX"
      },
      "outputs": [],
      "source": [
        "# Problem 1\n",
        "# (a) Absolute values\n",
        "def absolute_values(l):\n",
        "    return [abs(x) for x in l]\n",
        "\n",
        "# (b) Even and Odd numbers\n",
        "def even_odd(l):\n",
        "    return [True if x % 2 == 0 else False for x in l]\n",
        "\n",
        "# (c) Numbers divisible by 3\n",
        "def divisible_by_3(l):\n",
        "    return [x for x in l if x % 3 == 0]\n",
        "\n",
        "# (d) Words with First and Last letters same\n",
        "def first_last_same(l):\n",
        "    return [word for word in l if len(word) > 1 and word[0] == word[-1]]\n",
        "\n",
        "# (e) First letter of words ending with Vowel\n",
        "def first_letter_vowel(l):\n",
        "    vowels = 'aeiouAEIOU'\n",
        "    return [word[0] for word in l if word[-1] in vowels]\n",
        "\n",
        "# Problem 2\n",
        "# Multiplication as a recursive process\n",
        "def product_recursive(a, b):\n",
        "    if b == 1:\n",
        "        return a\n",
        "    else:\n",
        "        return a + product_recursive(a, b - 1)\n",
        "\n",
        "# Problem 3\n",
        "# Division as a recursive process\n",
        "def divide_recursive(a, b):\n",
        "    if a < b:\n",
        "        return 0, a\n",
        "    else:\n",
        "        q, r = divide_recursive(a - b, b)\n",
        "        return q + 1, r\n",
        "\n",
        "# Problem 4\n",
        "# Dot product of two vectors\n",
        "def dot(V, W):\n",
        "    if not V or not W:\n",
        "        return 0\n",
        "    else:\n",
        "        return V[0] * W[0] + dot(V[1:], W[1:])"
      ]
    },
    {
      "cell_type": "code",
      "source": [
        "l = [1, -2, 3, -4, 5]\n",
        "word = [\"faker\", \"gumayusi\", \"zeus\", \"oner\", \"keria\", \"treat\", \"mushroom\"]\n",
        "V = [1, 2, 3]\n",
        "W = [4, 5, 6]\n",
        "\n",
        "# Problem 1\n",
        "print(\"(a) Absolute values:\", absolute_values(l))\n",
        "print(\"(b) Even and odd numbers:\", even_odd(l))\n",
        "print(\"(c) Numbers divisible by 3:\", divisible_by_3(l))\n",
        "print(\"(d) Words with first and last letters same:\", first_last_same(word))\n",
        "print(\"(e) First letter of words ending with vowel:\", first_letter_vowel(word))\n",
        "\n",
        "# Problem 2\n",
        "print(\"Product of 4 and 5 using recursion:\", product_recursive(4, 5))\n",
        "\n",
        "# Problem 3\n",
        "q, r = divide_recursive(17, 5)\n",
        "print(\"Quotient and remainder of 17 divided by 5:\", q, r)\n",
        "\n",
        "# Problem 4\n",
        "print(\"Dot product of V and W:\", dot(V, W))"
      ],
      "metadata": {
        "colab": {
          "base_uri": "https://localhost:8080/"
        },
        "id": "nLbRnz463x5L",
        "outputId": "a4845a7f-7675-4f5f-cb61-16a6e7cf6d6e"
      },
      "execution_count": 14,
      "outputs": [
        {
          "output_type": "stream",
          "name": "stdout",
          "text": [
            "(a) Absolute values: [1, 2, 3, 4, 5]\n",
            "(b) Even and odd numbers: [False, True, False, True, False]\n",
            "(c) Numbers divisible by 3: [3]\n",
            "(d) Words with first and last letters same: ['treat', 'mushroom']\n",
            "(e) First letter of words ending with vowel: ['g', 'k']\n",
            "Product of 4 and 5 using recursion: 20\n",
            "Quotient and remainder of 17 divided by 5: 3 2\n",
            "Dot product of V and W: 32\n"
          ]
        }
      ]
    }
  ]
}