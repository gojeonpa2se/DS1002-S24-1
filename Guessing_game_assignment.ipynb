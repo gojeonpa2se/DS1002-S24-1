{
  "nbformat": 4,
  "nbformat_minor": 0,
  "metadata": {
    "colab": {
      "provenance": [],
      "authorship_tag": "ABX9TyPr6vfdFfrc/r8Hc1b7Pg4j",
      "include_colab_link": true
    },
    "kernelspec": {
      "name": "python3",
      "display_name": "Python 3"
    },
    "language_info": {
      "name": "python"
    }
  },
  "cells": [
    {
      "cell_type": "markdown",
      "metadata": {
        "id": "view-in-github",
        "colab_type": "text"
      },
      "source": [
        "<a href=\"https://colab.research.google.com/github/gojeonpa2se/DS1002-S24-1/blob/main/Guessing_game_assignment.ipynb\" target=\"_parent\"><img src=\"https://colab.research.google.com/assets/colab-badge.svg\" alt=\"Open In Colab\"/></a>"
      ]
    },
    {
      "cell_type": "markdown",
      "source": [
        "Work by Haeseok Song"
      ],
      "metadata": {
        "id": "9cSx4WndNpEa"
      }
    },
    {
      "cell_type": "code",
      "source": [
        "import random\n",
        "import numpy as np\n",
        "\n",
        "def play_a_number_guessing_game():\n",
        "    print(\"Welcome to the Number Guessing Game!\")\n",
        "    print(\"I have selected a number between 0 and 100. Try to guess it!\")\n",
        "\n",
        "    correct_number = random.randint(0,100)\n",
        "    num = -1\n",
        "\n",
        "    while num != correct_number:\n",
        "\n",
        "      print(\"Input number\")\n",
        "      user_input = input()\n",
        "\n",
        "      if user_input.isdigit():\n",
        "        num = int(user_input)\n",
        "\n",
        "        if num>correct_number:\n",
        "          print(\"Too high!\")\n",
        "        elif num<correct_number:\n",
        "          print(\"Too low!\")\n",
        "\n",
        "      else:\n",
        "        print(\"Invalid input! Please enter a integer\")\n",
        "\n",
        "\n",
        "    print(\"You got the answer\")\n",
        "\n",
        "play_a_number_guessing_game()"
      ],
      "metadata": {
        "id": "OIRPa6_pN04N"
      },
      "execution_count": null,
      "outputs": []
    },
    {
      "cell_type": "markdown",
      "source": [
        "It took about 1 hour and 30 minutes."
      ],
      "metadata": {
        "id": "LTLGL-SHN1qs"
      }
    }
  ]
}